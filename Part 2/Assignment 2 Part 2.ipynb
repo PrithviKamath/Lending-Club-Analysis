{
 "cells": [
  {
   "cell_type": "code",
   "execution_count": 1,
   "metadata": {
    "collapsed": true
   },
   "outputs": [],
   "source": [
    "# coding: utf-8\n",
    "\n",
    "# In[2]:\n",
    "\n",
    "import urllib.request\n",
    "import requests\n",
    "import zipfile\n",
    "import io\n",
    "import os\n",
    "import glob\n",
    "import pandas as pd\n",
    "import boto\n",
    "import boto.s3\n",
    "import sys\n",
    "import luigi\n",
    "import datetime, time\n",
    "\n",
    "import csv\n",
    "import pandas as pd\n",
    "import numpy as np\n",
    "from pandas import DataFrame\n",
    "import matplotlib.pyplot as plt\n",
    "import seaborn as sns\n",
    "\n",
    "from boto.s3.key import Key\n",
    "from urllib.request import urlopen\n",
    "from bs4 import BeautifulSoup as bsoup"
   ]
  },
  {
   "cell_type": "code",
   "execution_count": 2,
   "metadata": {
    "collapsed": false
   },
   "outputs": [
    {
     "name": "stderr",
     "output_type": "stream",
     "text": [
      "C:\\Users\\prith\\Anaconda3\\lib\\site-packages\\IPython\\core\\interactiveshell.py:2717: DtypeWarning: Columns (0,19,49,59) have mixed types. Specify dtype option on import or set low_memory=False.\n",
      "  interactivity=interactivity, compiler=compiler, result=result)\n"
     ]
    }
   ],
   "source": [
    "loanData = pd.read_csv('C:\\\\Users\\\\prith\\\\Documents\\\\Python Scripts\\\\ads assignment2\\\\Accepted_LoanData.csv', sep=',' , encoding='latin-1')"
   ]
  },
  {
   "cell_type": "code",
   "execution_count": 3,
   "metadata": {
    "collapsed": false
   },
   "outputs": [],
   "source": [
    "loanData = loanData[pd.notnull(loanData['loan_amnt'])]"
   ]
  },
  {
   "cell_type": "code",
   "execution_count": 4,
   "metadata": {
    "collapsed": true
   },
   "outputs": [],
   "source": [
    "#delete columns which are of no use\n",
    "del loanData['emp_title']\n",
    "del loanData['desc']\n",
    "del loanData['last_pymnt_d']\n",
    "del loanData['next_pymnt_d']\n",
    "del loanData['last_credit_pull_d']"
   ]
  },
  {
   "cell_type": "code",
   "execution_count": 5,
   "metadata": {
    "collapsed": true
   },
   "outputs": [],
   "source": [
    "#Converting to datatime format\n",
    "loanData[\"issue_d\"]=pd.to_datetime(loanData['issue_d'])\n",
    "loanData[\"earliest_cr_line\"]=pd.to_datetime(loanData['earliest_cr_line'])\n",
    "#adding Issue_Month and Issue_Year columns\n",
    "loanData['issue_month'] = loanData['issue_d'].dt.month\n",
    "loanData['issue_year'] = loanData['issue_d'].dt.year"
   ]
  },
  {
   "cell_type": "code",
   "execution_count": 6,
   "metadata": {
    "collapsed": false
   },
   "outputs": [],
   "source": [
    "#Deriving Credit age for every customer\n",
    "loanData[\"credit_age\"]=loanData[\"issue_d\"]-loanData[\"earliest_cr_line\"]"
   ]
  },
  {
   "cell_type": "code",
   "execution_count": 7,
   "metadata": {
    "collapsed": false,
    "scrolled": true
   },
   "outputs": [
    {
     "name": "stderr",
     "output_type": "stream",
     "text": [
      "C:\\Users\\prith\\Anaconda3\\lib\\site-packages\\ipykernel\\__main__.py:7: FutureWarning: convert_objects is deprecated.  Use the data-type specific converters pd.to_datetime, pd.to_timedelta and pd.to_numeric.\n",
      "C:\\Users\\prith\\Anaconda3\\lib\\site-packages\\ipykernel\\__main__.py:11: SettingWithCopyWarning: \n",
      "A value is trying to be set on a copy of a slice from a DataFrame\n",
      "\n",
      "See the caveats in the documentation: http://pandas.pydata.org/pandas-docs/stable/indexing.html#indexing-view-versus-copy\n",
      "C:\\Users\\prith\\Anaconda3\\lib\\site-packages\\ipykernel\\__main__.py:12: SettingWithCopyWarning: \n",
      "A value is trying to be set on a copy of a slice from a DataFrame\n",
      "\n",
      "See the caveats in the documentation: http://pandas.pydata.org/pandas-docs/stable/indexing.html#indexing-view-versus-copy\n",
      "C:\\Users\\prith\\Anaconda3\\lib\\site-packages\\ipykernel\\__main__.py:40: FutureWarning: convert_objects is deprecated.  Use the data-type specific converters pd.to_datetime, pd.to_timedelta and pd.to_numeric.\n",
      "C:\\Users\\prith\\Anaconda3\\lib\\site-packages\\ipykernel\\__main__.py:51: FutureWarning: convert_objects is deprecated.  Use the data-type specific converters pd.to_datetime, pd.to_timedelta and pd.to_numeric.\n",
      "C:\\Users\\prith\\Anaconda3\\lib\\site-packages\\ipykernel\\__main__.py:54: FutureWarning: convert_objects is deprecated.  Use the data-type specific converters pd.to_datetime, pd.to_timedelta and pd.to_numeric.\n",
      "C:\\Users\\prith\\Anaconda3\\lib\\site-packages\\ipykernel\\__main__.py:56: FutureWarning: convert_objects is deprecated.  Use the data-type specific converters pd.to_datetime, pd.to_timedelta and pd.to_numeric.\n",
      "C:\\Users\\prith\\Anaconda3\\lib\\site-packages\\ipykernel\\__main__.py:58: FutureWarning: convert_objects is deprecated.  Use the data-type specific converters pd.to_datetime, pd.to_timedelta and pd.to_numeric.\n",
      "C:\\Users\\prith\\Anaconda3\\lib\\site-packages\\ipykernel\\__main__.py:61: FutureWarning: convert_objects is deprecated.  Use the data-type specific converters pd.to_datetime, pd.to_timedelta and pd.to_numeric.\n"
     ]
    }
   ],
   "source": [
    "loanData[\"num_il_tl\"]=loanData[\"num_il_tl\"].fillna(0)\n",
    "loanData[\"num_rev_accts\"]=loanData[\"num_rev_accts\"].fillna(0)\n",
    "loanData[\"Lending_Club_Interest\"]=loanData[\"total_pymnt\"]-loanData[\"total_pymnt_inv\"]\n",
    "\n",
    "#Format Interest_Rate\n",
    "loanData[\"Interest_Rate\"]=loanData[\"int_rate\"].str.rstrip(\"%\")\n",
    "loanData['Interest_Rate'] = loanData['Interest_Rate'].convert_objects(convert_numeric=True)\n",
    "\n",
    "#Modifying emp_length\n",
    "loanData[\"derived_emp_length\"]=loanData[\"emp_length\"]\n",
    "loanData.derived_emp_length[loanData.derived_emp_length==\"10+ years\"]=\"10\"\n",
    "loanData.derived_emp_length[loanData.derived_emp_length==\"< 1 year\"]=\"0\"\n",
    "loanData['derived_emp_length'] = loanData.derived_emp_length.str.replace(' years?' , '')\n",
    "\n",
    "#Modifying title by personal\n",
    "loanData['derived_title'] = loanData['title']\n",
    "loanData['derived_title'] = loanData['derived_title'].fillna('personal')\n",
    "\n",
    "#mths_since_last_delinq - replace by 24 if delinq_2yrs = 0\n",
    "loanData['derived_mths_since_last_delinq'] = loanData['mths_since_last_delinq']\n",
    "loanData['derived_mths_since_last_delinq'] = loanData['derived_mths_since_last_delinq'].fillna(24)\n",
    "\n",
    "#mths_since_last_record - replace blanks by -1, which indicates that a borrower doesn't have any public record\n",
    "loanData['derived_mths_since_last_record'] = loanData['mths_since_last_record']\n",
    "loanData['derived_mths_since_last_record'] = loanData['derived_mths_since_last_record'].fillna(-1)\n",
    "\n",
    "#annual_inc - there are 4 blank records, each doesn't have a employer so replacing it with zero\n",
    "loanData['derived_annual_inc'] = loanData['annual_inc']\n",
    "loanData['derived_annual_inc'] = loanData['derived_annual_inc'].fillna(0)\n",
    "#delinq_2yrs - delinq_2yrs has the max value of 39. Whereas the delinq_2yrs is null for all people which does not meet the\n",
    "# credit policy is not valid and who status is Not Verified. So we are taking the mean of all the \n",
    "loanData['derived_delinq_2yrs'] = loanData['delinq_2yrs']\n",
    "loanData['delinq_2yrs'] = loanData['delinq_2yrs'].fillna(100)\n",
    "#delinq_amnt - Replacing this by 0, because 99.98% of the values is zero. Negligible rows has some other values\n",
    "loanData['derived_delinq_amnt'] = loanData['delinq_amnt']\n",
    "loanData['derived_delinq_amnt'] = loanData['derived_delinq_amnt'].fillna(0)\n",
    "#revol_util - Replaced it with the mean\n",
    "loanData['derived_revol_util'] = loanData['revol_util']\n",
    "loanData[\"derived_revol_util\"] = loanData[\"derived_revol_util\"].str.rstrip(\"%\")\n",
    "loanData['derived_revol_util'] = loanData['derived_revol_util'].convert_objects(convert_numeric=True)\n",
    "loanData['derived_revol_util'] = loanData['derived_revol_util'].fillna((loanData['derived_revol_util'].mean()))\n",
    "#pub_rec_bankruptcies - Replace this by the mean as all are non verified and does not meet the credit policy.\n",
    "loanData['derived_pub_rec_bankruptcies'] = loanData['pub_rec_bankruptcies']\n",
    "loanData['derived_pub_rec_bankruptcies'] = loanData['derived_pub_rec_bankruptcies'].fillna(loanData['derived_pub_rec_bankruptcies'].mean())\n",
    "#tax_liens\n",
    "loanData['derived_tax_liens'] = loanData['tax_liens']\n",
    "loanData['derived_tax_liens'] = loanData['derived_tax_liens'].fillna(loanData['derived_tax_liens'].mean())\n",
    "#interest_rate\n",
    "loanData['derived_int_rate'] = loanData['int_rate']\n",
    "loanData[\"derived_int_rate\"] = loanData[\"derived_int_rate\"].str.rstrip(\"%\")\n",
    "loanData['derived_int_rate'] = loanData['derived_int_rate'].convert_objects(convert_numeric=True)\n",
    "#FICO\n",
    "loanData[\"FICO\"]=(loanData[\"last_fico_range_high\"]+loanData[\"last_fico_range_low\"])/2\n",
    "loanData[\"FICO\"] = loanData[['FICO']].convert_objects(convert_numeric=True).fillna(300)\n",
    "#Total_Acc\n",
    "loanData[\"total_acc\"] = loanData[['total_acc']].convert_objects(convert_numeric=True).fillna(loanData[\"total_acc\"].mean())\n",
    "#Account open past 24 months\n",
    "loanData[\"acc_open_past_24mths\"] = loanData[['acc_open_past_24mths']].convert_objects(convert_numeric=True).fillna(loanData[\"acc_open_past_24mths\"].mean())\n",
    "#Taking only numeric values from term\n",
    "loanData[\"Derived_term\"]=loanData[\"term\"].str.extract(\"(\\d+) months\",expand=True)\n",
    "loanData[\"Derived_term\"] = loanData[['Derived_term']].convert_objects(convert_numeric=True)"
   ]
  },
  {
   "cell_type": "code",
   "execution_count": 8,
   "metadata": {
    "collapsed": true
   },
   "outputs": [],
   "source": [
    "#percent_bc_gt_75\n",
    "loanData['derived_percent_bc_gt_75'] = loanData['percent_bc_gt_75']\n",
    "loanData['derived_percent_bc_gt_75'] = loanData['derived_percent_bc_gt_75'].fillna(0)\n",
    "#num_tl_op_past_12m\n",
    "loanData['derived_num_tl_op_past_12m'] = loanData['num_tl_op_past_12m']\n",
    "loanData['derived_num_tl_op_past_12m'] = loanData['derived_num_tl_op_past_12m'].fillna(0)"
   ]
  },
  {
   "cell_type": "code",
   "execution_count": 9,
   "metadata": {
    "collapsed": false
   },
   "outputs": [],
   "source": [
    "loanData.to_csv(\"Cleaned_Loaned_Data.csv\")"
   ]
  },
  {
   "cell_type": "code",
   "execution_count": 10,
   "metadata": {
    "collapsed": true
   },
   "outputs": [],
   "source": [
    "loanData[\"LoanApproved\"]=1\n",
    "loanData[\"LoanApproved\"]=(loanData[\"LoanApproved\"]-1).where(loanData[\"policy_code\"]==2.0,loanData[\"LoanApproved\"])"
   ]
  },
  {
   "cell_type": "code",
   "execution_count": 11,
   "metadata": {
    "collapsed": false
   },
   "outputs": [],
   "source": [
    "clusterData=loanData[loanData[\"LoanApproved\"]==1]"
   ]
  },
  {
   "cell_type": "code",
   "execution_count": 12,
   "metadata": {
    "collapsed": false
   },
   "outputs": [],
   "source": [
    "clusterInputData=clusterData[[\"sub_grade\",\"derived_int_rate\",\"derived_annual_inc\",\"issue_year\",\"application_type\",\"Derived_term\",\"FICO\",\"derived_emp_length\",\"addr_state\",\"total_acc\",\"loan_amnt\",\"verification_status\",\"home_ownership\",\"acc_open_past_24mths\",\"revol_bal\",\"derived_mths_since_last_delinq\"]].copy()"
   ]
  },
  {
   "cell_type": "code",
   "execution_count": 13,
   "metadata": {
    "collapsed": false
   },
   "outputs": [],
   "source": [
    "clusterInputData.to_csv(\"ClusterInputData.csv\")"
   ]
  },
  {
   "cell_type": "code",
   "execution_count": 14,
   "metadata": {
    "collapsed": true
   },
   "outputs": [],
   "source": [
    "rejectedData = pd.read_csv('C:\\\\Users\\\\prith\\\\Documents\\\\Python Scripts\\\\ads assignment2\\\\Declined_LoanData.csv', sep=',' , encoding='latin-1')"
   ]
  },
  {
   "cell_type": "code",
   "execution_count": 16,
   "metadata": {
    "collapsed": false
   },
   "outputs": [
    {
     "name": "stderr",
     "output_type": "stream",
     "text": [
      "C:\\Users\\prith\\Anaconda3\\lib\\site-packages\\ipykernel\\__main__.py:23: FutureWarning: convert_objects is deprecated.  Use the data-type specific converters pd.to_datetime, pd.to_timedelta and pd.to_numeric.\n",
      "C:\\Users\\prith\\Anaconda3\\lib\\site-packages\\ipykernel\\__main__.py:25: FutureWarning: convert_objects is deprecated.  Use the data-type specific converters pd.to_datetime, pd.to_timedelta and pd.to_numeric.\n"
     ]
    }
   ],
   "source": [
    "x100 = rejectedData[pd.notnull(rejectedData['Risk_Score'])]\n",
    "x10=x100.groupby(\"State\")[\"Risk_Score\"].mean().reset_index(name=\"Risk_Score_mean\")\n",
    "x10['Risk_Score_mean'] = pd.to_numeric(x10['Risk_Score_mean'])\n",
    "\n",
    "rejectedData[\"Employment Length Value\"]=rejectedData[\"Employment Length\"].str.extract(\"(\\d+)\",expand=True)\n",
    "rejectedData['Employment Length Value'] = pd.to_numeric(rejectedData['Employment Length Value'])\n",
    "\n",
    "rejectedData[\"DTI\"]=rejectedData[\"Debt-To-Income Ratio\"].str.rstrip(\"%\")\n",
    "rejectedData['DTI'] = pd.to_numeric(rejectedData['DTI'])\n",
    "\n",
    "x11=rejectedData.groupby(\"State\")[\"Employment Length Value\"].mean().reset_index(name=\"Employment Length Value Mean\")\n",
    "x12=pd.merge(rejectedData,x10,how='left')\n",
    "rejectedData=pd.merge(x12,x11,how='left')\n",
    "\n",
    "rejectedData[\"Risk_Score\"]=(rejectedData[\"Risk_Score_mean\"]+43).where((rejectedData[\"Risk_Score\"].isnull()) & (rejectedData[\"DTI\"]>43),rejectedData[\"Risk_Score_mean\"])\n",
    "\n",
    "rejectedData[\"Risk_Score\"]=(rejectedData[\"Risk_Score\"]+93).where((rejectedData[\"Risk_Score\"].isnull()) & (rejectedData[\"DTI\"]>43) &(rejectedData[\"Employment Length Value\"]<rejectedData[\"Employment Length Value Mean\"]),rejectedData[\"Risk_Score_mean\"])\n",
    "\n",
    "rejectedData[\"Risk_Score\"]=(rejectedData[\"Risk_Score_mean\"]).where((rejectedData[\"Risk_Score\"].isnull()),rejectedData[\"Risk_Score_mean\"])\n",
    "\n",
    "rejectedData['Loan Title'] = rejectedData['Loan Title'].fillna('Others')\n",
    "\n",
    "rejectedData['State'] = rejectedData[['State']].convert_objects(convert_numeric=True).fillna('Other')\n",
    "\n",
    "rejectedData['Zip Code'] = rejectedData[['Zip Code']].convert_objects(convert_numeric=True).fillna('000xx')\n",
    "\n",
    "#Converting to datatime format\n",
    "rejectedData[\"Application Date\"]=pd.to_datetime(rejectedData['Application Date'])\n",
    "rejectedData['Application Date Month'] = rejectedData['Application Date'].dt.month\n",
    "rejectedData['Application Date Year'] = rejectedData['Application Date'].dt.year"
   ]
  },
  {
   "cell_type": "code",
   "execution_count": 17,
   "metadata": {
    "collapsed": true
   },
   "outputs": [],
   "source": [
    "data3=rejectedData[[\"Amount Requested\",\"Loan Title\",\"Risk_Score\",\"Debt-To-Income Ratio\",\"Zip Code\",\"Employment Length\",\"State\",\"Policy Code\"]].copy()\n",
    "data3[\"LoanApproved\"]=0\n",
    "data3 = data3.rename(columns={'Amount Requested': 'loan_amnt', 'Loan Title': 'title', 'Risk_Score': 'FicoScore', 'Debt-To-Income Ratio': 'dti', 'Zip Code': 'zip_code', 'Employment Length': 'emp_length', 'State': 'addr_state', 'Policy Code': 'policy_code', 'LoanApproved': 'LoanApproved'})"
   ]
  },
  {
   "cell_type": "code",
   "execution_count": 18,
   "metadata": {
    "collapsed": true
   },
   "outputs": [],
   "source": [
    "bigdata = loanData.append(data3, ignore_index=True)"
   ]
  },
  {
   "cell_type": "code",
   "execution_count": 19,
   "metadata": {
    "collapsed": true
   },
   "outputs": [],
   "source": [
    "bigdata.to_csv('Classification_Input_Data.csv')"
   ]
  },
  {
   "cell_type": "code",
   "execution_count": null,
   "metadata": {
    "collapsed": true
   },
   "outputs": [],
   "source": []
  }
 ],
 "metadata": {
  "anaconda-cloud": {},
  "kernelspec": {
   "display_name": "Python [default]",
   "language": "python",
   "name": "python3"
  },
  "language_info": {
   "codemirror_mode": {
    "name": "ipython",
    "version": 3
   },
   "file_extension": ".py",
   "mimetype": "text/x-python",
   "name": "python",
   "nbconvert_exporter": "python",
   "pygments_lexer": "ipython3",
   "version": "3.5.2"
  }
 },
 "nbformat": 4,
 "nbformat_minor": 1
}
